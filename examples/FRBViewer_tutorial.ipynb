{
 "cells": [
  {
   "cell_type": "markdown",
   "metadata": {},
   "source": [
    "# Interacting with the FRBViewer widget"
   ]
  },
  {
   "cell_type": "markdown",
   "metadata": {},
   "source": [
    "This widget ports the functionality of the yt pixelization function to Rust, and then to WebAssembly, so that the actual change in the image is conducted in the browser. Once the display has been created, no further contact with the server is necessary to get new data! It will pass some info back and forth (such as bounds and the like) but all of the actual visualization is occuring locally, in the browser, and is thus much faster with lower latency.\n",
    "\n",
    "It may appear blank at first, in which case you will need to toggle one of the viewable parameters, such as the colormap log scaling, to ensure an image appears.\n",
    "\n",
    "First, let's import our necessary modules"
   ]
  },
  {
   "cell_type": "code",
   "execution_count": null,
   "metadata": {},
   "outputs": [],
   "source": [
    "import ipywidgets\n",
    "\n",
    "import widgyts\n",
    "import yt"
   ]
  },
  {
   "cell_type": "markdown",
   "metadata": {},
   "source": [
    "Now let's use yt to load in some data. "
   ]
  },
  {
   "cell_type": "code",
   "execution_count": null,
   "metadata": {},
   "outputs": [],
   "source": [
    "ds = yt.load(\"enzo_tiny_cosmology/DD0046/DD0046\")"
   ]
  },
  {
   "cell_type": "markdown",
   "metadata": {},
   "source": [
    "## Slices and Projections"
   ]
  },
  {
   "cell_type": "markdown",
   "metadata": {},
   "source": [
    "Now we'll take a slice of our dataset and pass that slice into the FRBViewer widget from widgyts"
   ]
  },
  {
   "cell_type": "code",
   "execution_count": null,
   "metadata": {},
   "outputs": [],
   "source": [
    "# making the slice\n",
    "s = ds.r[:, :, 0.5]\n",
    "\n",
    "# putting data into a FRBViewer (loading the data into wasm)\n",
    "frb_dens = widgyts.FRBViewer(\n",
    "    height=512,\n",
    "    width=512,\n",
    "    px=s[\"px\"],\n",
    "    py=s[\"py\"],\n",
    "    pdx=s[\"pdx\"],\n",
    "    pdy=s[\"pdy\"],\n",
    "    val=s[\"density\"],\n",
    "    layout=ipywidgets.Layout(width=\"500px\", height=\"500px\"),\n",
    ")\n",
    "\n",
    "# using the default controls menu\n",
    "controls = frb_dens.setup_controls()\n",
    "display(ipywidgets.HBox([controls, frb_dens]))"
   ]
  },
  {
   "cell_type": "markdown",
   "metadata": {},
   "source": [
    "Similarly, we can use the `proj(field, axis)` operation on the dataset to get a projection object of the density projected on the z axis and pass that to the FRB. \n",
    "\n",
    "**note**: to see this image, you'll want to go into the colormap dropdown and set the log scale of the colorbar. You can zoom in or out on the image as well. "
   ]
  },
  {
   "cell_type": "code",
   "execution_count": null,
   "metadata": {},
   "outputs": [],
   "source": [
    "m = ds.proj(\"density\", \"z\")\n",
    "\n",
    "frb_proj_dens = widgyts.FRBViewer(\n",
    "    height=512,\n",
    "    width=512,\n",
    "    px=m[\"px\"],\n",
    "    py=m[\"py\"],\n",
    "    pdx=m[\"pdx\"],\n",
    "    pdy=m[\"pdy\"],\n",
    "    val=m[\"density\"],\n",
    "    layout=ipywidgets.Layout(width=\"500px\", height=\"500px\"),\n",
    ")\n",
    "\n",
    "# using the default controls menu\n",
    "controls = frb_proj_dens.setup_controls()\n",
    "display(ipywidgets.HBox([controls, frb_proj_dens]))"
   ]
  },
  {
   "cell_type": "markdown",
   "metadata": {},
   "source": [
    "## Updating the Traitlets"
   ]
  },
  {
   "cell_type": "markdown",
   "metadata": {},
   "source": [
    "### Traitlets in the colormap widget"
   ]
  },
  {
   "cell_type": "markdown",
   "metadata": {},
   "source": [
    "The API documentation for widgyts details a bit about the traitlets that each widget has. The control panel on the left side of these earlier visualizations directly interact with some of those traitlets. You can use the controls to update these values, but you can also modify them directly. \n",
    "\n",
    "This next cell will update the density projection image's colormap to inferno, change the scale to log if it isn't already, and also update teh colormap bounds (the min and max value defaults for this dataset are ~1.3e-05 and 5.6e-02, respectively).\n",
    "\n",
    "Note that the traitlets in this cell belong to the colormaps class. All colormap-related traitlets are handled by the Colormap widget. A few cells down we can also see some examples of updating traitlets that belong to the FRBViewer widget. "
   ]
  },
  {
   "cell_type": "code",
   "execution_count": null,
   "metadata": {},
   "outputs": [],
   "source": [
    "frb_proj_dens.colormaps.map_name = \"inferno\"\n",
    "frb_proj_dens.colormaps.is_log = True\n",
    "frb_proj_dens.colormaps.min_val = 1.2e-05\n",
    "frb_proj_dens.colormaps.max_val = 5.0e-02\n",
    "\n",
    "\n",
    "display(frb_proj_dens)"
   ]
  },
  {
   "cell_type": "markdown",
   "metadata": {},
   "source": [
    "Note here that the display of the frb_proj_dens updated in this cell and the previous cell with the navigation panel. "
   ]
  },
  {
   "cell_type": "markdown",
   "metadata": {},
   "source": [
    "### Linking views with traitlets "
   ]
  },
  {
   "cell_type": "markdown",
   "metadata": {},
   "source": [
    "Updating traitlets directly is helpful in many ways. We can also use ipywidgets traitlet linking to make two views sync together. First, let's make another projection, but this time with temperature. "
   ]
  },
  {
   "cell_type": "code",
   "execution_count": null,
   "metadata": {},
   "outputs": [],
   "source": [
    "n = ds.proj(\"temperature\", \"z\")\n",
    "\n",
    "frb_proj_temp = widgyts.FRBViewer(\n",
    "    height=512,\n",
    "    width=512,\n",
    "    px=n[\"px\"],\n",
    "    py=n[\"py\"],\n",
    "    pdx=n[\"pdx\"],\n",
    "    pdy=n[\"pdy\"],\n",
    "    val=n[\"temperature\"],\n",
    "    layout=ipywidgets.Layout(width=\"500px\", height=\"500px\"),\n",
    ")"
   ]
  },
  {
   "cell_type": "markdown",
   "metadata": {},
   "source": [
    "Now let's link the traitlets between the density and temperature projections and set the temperature colormap to be something different from density "
   ]
  },
  {
   "cell_type": "code",
   "execution_count": null,
   "metadata": {},
   "outputs": [],
   "source": [
    "ipywidgets.link((frb_proj_dens, \"view_center\"), (frb_proj_temp, \"view_center\"))\n",
    "ipywidgets.link((frb_proj_dens, \"view_width\"), (frb_proj_temp, \"view_width\"))\n",
    "ipywidgets.link(\n",
    "    (frb_proj_dens.colormaps, \"is_log\"), (frb_proj_temp.colormaps, \"is_log\")\n",
    ")\n",
    "\n",
    "frb_proj_temp.colormaps.map_name = \"magma\"\n",
    "frb_proj_temp.colormaps.min_val = 1.59e29\n",
    "frb_proj_temp.colormaps.max_val = 1.125e32"
   ]
  },
  {
   "cell_type": "markdown",
   "metadata": {},
   "source": [
    "Let's set up a view with a control panel and both the temperature and projection views.\n",
    "\n",
    "If you update aspects of the view parameters of the density plot, the temperature plot will update in the same manner. Try and click within either of the images to re-center it, or use the zoom button to see interesting features of either map. "
   ]
  },
  {
   "cell_type": "code",
   "execution_count": null,
   "metadata": {},
   "outputs": [],
   "source": [
    "controls = frb_proj_dens.setup_controls()\n",
    "display(ipywidgets.HBox([controls, frb_proj_dens, frb_proj_temp]))"
   ]
  },
  {
   "cell_type": "markdown",
   "metadata": {},
   "source": [
    "Note here that the control panel is linked to the density projection plot, but you can still update the temperature plot using the traitlets. "
   ]
  },
  {
   "cell_type": "code",
   "execution_count": null,
   "metadata": {},
   "outputs": [],
   "source": [
    "frb_proj_temp.colormaps.map_name = \"inferno\""
   ]
  }
 ],
 "metadata": {
  "kernelspec": {
   "display_name": "Python 3",
   "language": "python",
   "name": "python3"
  },
  "language_info": {
   "codemirror_mode": {
    "name": "ipython",
    "version": 3
   },
   "file_extension": ".py",
   "mimetype": "text/x-python",
   "name": "python",
   "nbconvert_exporter": "python",
   "pygments_lexer": "ipython3",
   "version": "3.6.5"
  }
 },
 "nbformat": 4,
 "nbformat_minor": 2
}
