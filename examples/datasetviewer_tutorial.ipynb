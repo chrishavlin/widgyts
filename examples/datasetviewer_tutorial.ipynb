{
 "cells": [
  {
   "cell_type": "code",
   "execution_count": 1,
   "metadata": {},
   "outputs": [
    {
     "name": "stderr",
     "output_type": "stream",
     "text": [
      "yt : [INFO     ] 2020-09-18 10:58:07,452 Files located at /data2/yt_sample_data/IsolatedGalaxy.tar.gz.untar/IsolatedGalaxy/\n",
      "yt : [INFO     ] 2020-09-18 10:58:07,453 Default to loading galaxy0030/galaxy0030 for IsolatedGalaxy dataset\n",
      "yt : [INFO     ] 2020-09-18 10:58:07,573 Parameters: current_time              = 0.0060000200028298\n"
     ]
    }
   ],
   "source": [
    "import yt\n",
    "import widgyts\n",
    "ds = yt.load_sample(\"IsolatedGalaxy\")"
   ]
  },
  {
   "cell_type": "code",
   "execution_count": 2,
   "metadata": {},
   "outputs": [],
   "source": [
    "v = widgyts.DatasetViewer(ds = ds)"
   ]
  },
  {
   "cell_type": "code",
   "execution_count": 3,
   "metadata": {},
   "outputs": [
    {
     "name": "stderr",
     "output_type": "stream",
     "text": [
      "Parsing Hierarchy : 100%|██████████| 173/173 [00:00<00:00, 7035.03it/s]\n",
      "yt : [INFO     ] 2020-09-18 10:58:39,942 Gathering a field list (this may take a moment.)\n"
     ]
    },
    {
     "data": {
      "application/vnd.jupyter.widget-view+json": {
       "model_id": "5d951a20c80c49afabd50891e51825fd",
       "version_major": 2,
       "version_minor": 0
      },
      "text/plain": [
       "Tab(children=(HBox(children=(Renderer(camera=PerspectiveCamera(children=(AmbientLight(quaternion=(0.0, 0.0, 0.…"
      ]
     },
     "metadata": {},
     "output_type": "display_data"
    }
   ],
   "source": [
    "v.widget()"
   ]
  },
  {
   "cell_type": "code",
   "execution_count": null,
   "metadata": {},
   "outputs": [],
   "source": []
  }
 ],
 "metadata": {
  "kernelspec": {
   "display_name": "py38",
   "language": "python",
   "name": "py38"
  },
  "language_info": {
   "codemirror_mode": {
    "name": "ipython",
    "version": 3
   },
   "file_extension": ".py",
   "mimetype": "text/x-python",
   "name": "python",
   "nbconvert_exporter": "python",
   "pygments_lexer": "ipython3",
   "version": "3.8.5"
  }
 },
 "nbformat": 4,
 "nbformat_minor": 4
}
